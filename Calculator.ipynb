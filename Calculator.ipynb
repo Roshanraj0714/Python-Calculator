{
 "cells": [
  {
   "cell_type": "code",
   "execution_count": 1,
   "id": "dde8ccf1-7383-460b-a938-880c57f9912d",
   "metadata": {},
   "outputs": [
    {
     "name": "stdin",
     "output_type": "stream",
     "text": [
      "Enter First Number:  45\n",
      "Enter operator (+,-,*,/,%,**,//): *\n",
      "Enter Second Number:  65\n"
     ]
    },
    {
     "name": "stdout",
     "output_type": "stream",
     "text": [
      "45.0 * 65.0 = 2925.0\n",
      "This is a calculator\n"
     ]
    }
   ],
   "source": [
    "def calculator():\n",
    "   print(\"This is a calculator\")\n",
    "x = float(input(\"Enter First Number: \"))\n",
    "s = input(\"Enter operator (+,-,*,/,%,**,//):\")\n",
    "y = float(input(\"Enter Second Number: \"))   \n",
    "if s == '+':\n",
    "    print(f\"{x} + {y} = {x + y}\")\n",
    "elif s == '-':\n",
    "    print(f\"{x} - {y} = {x - y}\")\n",
    "elif s == '*':\n",
    "    print(f\"{x} * {y} = {x * y}\")\n",
    "elif s == '/':\n",
    "    print(f\"{x} / {y} = {x / y}\")\n",
    "elif s == '%':\n",
    "    print(f\"{x} % {y} = {x % y}\")\n",
    "elif s == '**':\n",
    "    print(f\"{x} ** {y} = {x ** y}\")\n",
    "elif s == '//':\n",
    "    print(f\"{x} ** {y} = {x ** y}\")\n",
    "else :\n",
    "    print(\"Invalid operator\")\n",
    "calculator()"
   ]
  }
 ],
 "metadata": {
  "kernelspec": {
   "display_name": "Python 3 (ipykernel)",
   "language": "python",
   "name": "python3"
  },
  "language_info": {
   "codemirror_mode": {
    "name": "ipython",
    "version": 3
   },
   "file_extension": ".py",
   "mimetype": "text/x-python",
   "name": "python",
   "nbconvert_exporter": "python",
   "pygments_lexer": "ipython3",
   "version": "3.13.5"
  }
 },
 "nbformat": 4,
 "nbformat_minor": 5
}
